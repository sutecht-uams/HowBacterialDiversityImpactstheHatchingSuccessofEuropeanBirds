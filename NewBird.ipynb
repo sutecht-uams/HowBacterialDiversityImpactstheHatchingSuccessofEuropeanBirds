{
 "cells": [
  {
   "cell_type": "code",
   "execution_count": 8,
   "metadata": {},
   "outputs": [
    {
     "name": "stdout",
     "output_type": "stream",
     "text": [
      "deblur-stats.qza    rep-seqs-cr-97.qza  table-cr-97.qza     unmatched-cr-97.qza\r\n",
      "mapping.tsv         rep-seqs-deblur.qza table-deblur.qza\r\n"
     ]
    }
   ],
   "source": [
    "!ls hpc/output/"
   ]
  },
  {
   "cell_type": "code",
   "execution_count": 6,
   "metadata": {},
   "outputs": [
    {
     "name": "stdout",
     "output_type": "stream",
     "text": [
      "\u001b[32mSaved Visualization to: table-cr-97-vis.qzv\u001b[0m\r\n"
     ]
    }
   ],
   "source": [
    "!qiime feature-table summarize \\\n",
    " --i-table hpc/output/table-cr-97.qza \\\n",
    " --o-visualization table-cr-97-vis.qzv"
   ]
  },
  {
   "cell_type": "code",
   "execution_count": 19,
   "metadata": {},
   "outputs": [
    {
     "name": "stdout",
     "output_type": "stream",
     "text": [
      "Press the 'q' key, Control-C, or Control-D to quit. This view may no longer be accessible or work correctly after quitting.\n",
      "Press the 'q' key, Control-C, or Control-D to quit. This view may no longer be accessible or work correctly after quitting."
     ]
    }
   ],
   "source": [
    "!qiime tools view table-cr-97-vis.qzv"
   ]
  },
  {
   "cell_type": "code",
   "execution_count": 11,
   "metadata": {
    "scrolled": true
   },
   "outputs": [
    {
     "name": "stdout",
     "output_type": "stream",
     "text": [
      "\u001b[32mSaved FeatureData[AlignedSequence] to: hpc/output/results/aligned-rep-seqs.qza\u001b[0m\n",
      "\u001b[32mSaved FeatureData[AlignedSequence] to: hpc/output/results/masked-aligned-rep-seqs.qza\u001b[0m\n",
      "\u001b[32mSaved Phylogeny[Unrooted] to: hpc/output/results/unrooted-tree.qza\u001b[0m\n",
      "\u001b[32mSaved Phylogeny[Rooted] to: hpc/output/results/rooted-tree.qza\u001b[0m\n"
     ]
    }
   ],
   "source": [
    "!qiime phylogeny align-to-tree-mafft-fasttree \\\n",
    "  --i-sequences hpc/output/rep-seqs-cr-97.qza \\\n",
    "  --o-alignment hpc/output/results/aligned-rep-seqs.qza \\\n",
    "  --o-masked-alignment hpc/output/results/masked-aligned-rep-seqs.qza \\\n",
    "  --o-tree hpc/output/results/unrooted-tree.qza \\\n",
    "  --o-rooted-tree hpc/output/results/rooted-tree.qza"
   ]
  },
  {
   "cell_type": "markdown",
   "metadata": {},
   "source": [
    "\n",
    "\n",
    "[Tree at ITOL](https://itol.embl.de/tree/991976123347171557017399) \n",
    "![alt text](hpc/output/results/uD8XuRbmBQ-xS-Xcyu3ieg.png \"Tree\")"
   ]
  },
  {
   "cell_type": "code",
   "execution_count": 14,
   "metadata": {},
   "outputs": [
    {
     "name": "stdout",
     "output_type": "stream",
     "text": [
      "\u001b[32mSaved FeatureTable[Frequency] to: hpc/output/table-no-mitochloroarch.qza\u001b[0m\r\n"
     ]
    }
   ],
   "source": [
    "!qiime taxa filter-table \\\n",
    "  --i-table hpc/output/table-cr-97.qza \\\n",
    "  --i-taxonomy hpc/output/taxonomy.qza  \\\n",
    "  --p-exclude mitochondria,chloroplast,archaea \\\n",
    "  --o-filtered-table hpc/output/table-no-mitochloroarch.qza"
   ]
  },
  {
   "cell_type": "code",
   "execution_count": 16,
   "metadata": {},
   "outputs": [
    {
     "name": "stdout",
     "output_type": "stream",
     "text": [
      "\u001b[32mSaved FeatureData[Sequence] to: hpc/output/seqs-no-mitochloroarch.qza\u001b[0m\r\n"
     ]
    }
   ],
   "source": [
    "!qiime taxa filter-seqs \\\n",
    "  --i-sequences hpc/output/rep-seqs-cr-97.qza \\\n",
    "  --i-taxonomy hpc/output/taxonomy.qza  \\\n",
    "  --p-exclude mitochondria,chloroplast,archaea \\\n",
    "  --o-filtered-sequences hpc/output/seqs-no-mitochloroarch.qza"
   ]
  },
  {
   "cell_type": "code",
   "execution_count": 28,
   "metadata": {},
   "outputs": [
    {
     "name": "stdout",
     "output_type": "stream",
     "text": [
      "\u001b[32mSaved FeatureTable[Frequency] to: hpc/output/filtered-table.qza\u001b[0m\r\n"
     ]
    }
   ],
   "source": [
    "!qiime feature-table filter-features \\\n",
    "  --i-table hpc/output/table-no-mitochloroarch.qza \\\n",
    "  --p-min-frequency 220 \\\n",
    "  --o-filtered-table hpc/output/filtered-table.qza"
   ]
  },
  {
   "cell_type": "code",
   "execution_count": 29,
   "metadata": {},
   "outputs": [
    {
     "name": "stdout",
     "output_type": "stream",
     "text": [
      "\u001b[32mSaved Visualization to: hpc/output/filtered-table-vis.qzv\u001b[0m\r\n"
     ]
    }
   ],
   "source": [
    "!qiime feature-table summarize \\\n",
    " --i-table hpc/output/filtered-table.qza \\\n",
    " --o-visualization hpc/output/filtered-table-vis.qzv"
   ]
  },
  {
   "cell_type": "code",
   "execution_count": 30,
   "metadata": {},
   "outputs": [
    {
     "name": "stdout",
     "output_type": "stream",
     "text": [
      "Press the 'q' key, Control-C, or Control-D to quit. This view may no longer be accessible or work correctly after quitting.\n",
      "Press the 'q' key, Control-C, or Control-D to quit. This view may no longer be accessible or work correctly after quitting."
     ]
    }
   ],
   "source": [
    "!qiime tools view hpc/output/filtered-table-vis.qzv"
   ]
  },
  {
   "cell_type": "code",
   "execution_count": 18,
   "metadata": {},
   "outputs": [
    {
     "name": "stdout",
     "output_type": "stream",
     "text": [
      "\u001b[32mSaved FeatureData[AlignedSequence] to: hpc/output/results/filtered-aligned-rep-seqs.qza\u001b[0m\n",
      "\u001b[32mSaved FeatureData[AlignedSequence] to: hpc/output/results/filtered-masked-aligned-rep-seqs.qza\u001b[0m\n",
      "\u001b[32mSaved Phylogeny[Unrooted] to: hpc/output/results/filtered-unrooted-tree.qza\u001b[0m\n",
      "\u001b[32mSaved Phylogeny[Rooted] to: hpc/output/results/filtered-rooted-tree.qza\u001b[0m\n"
     ]
    }
   ],
   "source": [
    "!qiime phylogeny align-to-tree-mafft-fasttree \\\n",
    "  --i-sequences hpc/output/seqs-no-mitochloroarch.qza \\\n",
    "  --o-alignment hpc/output/results/filtered-aligned-rep-seqs.qza \\\n",
    "  --o-masked-alignment hpc/output/results/filtered-masked-aligned-rep-seqs.qza \\\n",
    "  --o-tree hpc/output/results/filtered-unrooted-tree.qza \\\n",
    "  --o-rooted-tree hpc/output/results/filtered-rooted-tree.qza"
   ]
  },
  {
   "cell_type": "code",
   "execution_count": 34,
   "metadata": {},
   "outputs": [
    {
     "name": "stdout",
     "output_type": "stream",
     "text": [
      "\u001b[32mSaved FeatureTable[Frequency] to: hpc/output/core-metrics-results/rarefied_table.qza\u001b[0m\n",
      "\u001b[32mSaved SampleData[AlphaDiversity] % Properties(['phylogenetic']) to: hpc/output/core-metrics-results/faith_pd_vector.qza\u001b[0m\n",
      "\u001b[32mSaved SampleData[AlphaDiversity] to: hpc/output/core-metrics-results/observed_otus_vector.qza\u001b[0m\n",
      "\u001b[32mSaved SampleData[AlphaDiversity] to: hpc/output/core-metrics-results/shannon_vector.qza\u001b[0m\n",
      "\u001b[32mSaved SampleData[AlphaDiversity] to: hpc/output/core-metrics-results/evenness_vector.qza\u001b[0m\n",
      "\u001b[32mSaved DistanceMatrix % Properties(['phylogenetic']) to: hpc/output/core-metrics-results/unweighted_unifrac_distance_matrix.qza\u001b[0m\n",
      "\u001b[32mSaved DistanceMatrix % Properties(['phylogenetic']) to: hpc/output/core-metrics-results/weighted_unifrac_distance_matrix.qza\u001b[0m\n",
      "\u001b[32mSaved DistanceMatrix to: hpc/output/core-metrics-results/jaccard_distance_matrix.qza\u001b[0m\n",
      "\u001b[32mSaved DistanceMatrix to: hpc/output/core-metrics-results/bray_curtis_distance_matrix.qza\u001b[0m\n",
      "\u001b[32mSaved PCoAResults to: hpc/output/core-metrics-results/unweighted_unifrac_pcoa_results.qza\u001b[0m\n",
      "\u001b[32mSaved PCoAResults to: hpc/output/core-metrics-results/weighted_unifrac_pcoa_results.qza\u001b[0m\n",
      "\u001b[32mSaved PCoAResults to: hpc/output/core-metrics-results/jaccard_pcoa_results.qza\u001b[0m\n",
      "\u001b[32mSaved PCoAResults to: hpc/output/core-metrics-results/bray_curtis_pcoa_results.qza\u001b[0m\n",
      "\u001b[32mSaved Visualization to: hpc/output/core-metrics-results/unweighted_unifrac_emperor.qzv\u001b[0m\n",
      "\u001b[32mSaved Visualization to: hpc/output/core-metrics-results/weighted_unifrac_emperor.qzv\u001b[0m\n",
      "\u001b[32mSaved Visualization to: hpc/output/core-metrics-results/jaccard_emperor.qzv\u001b[0m\n",
      "\u001b[32mSaved Visualization to: hpc/output/core-metrics-results/bray_curtis_emperor.qzv\u001b[0m\n"
     ]
    }
   ],
   "source": [
    "!qiime diversity core-metrics-phylogenetic \\\n",
    "  --i-phylogeny hpc/output/results/filtered-rooted-tree.qza \\\n",
    "  --i-table hpc/output/filtered-table.qza \\\n",
    "  --p-sampling-depth 10569 \\\n",
    "  --m-metadata-file hpc/output/mapping.tsv \\\n",
    "  --output-dir hpc/output/core-metrics-results"
   ]
  },
  {
   "cell_type": "code",
   "execution_count": 38,
   "metadata": {},
   "outputs": [
    {
     "name": "stdout",
     "output_type": "stream",
     "text": [
      "\u001b[32mSaved Visualization to: hpc/output/results/taxa-bar-plots.qzv\u001b[0m\r\n"
     ]
    }
   ],
   "source": [
    "!qiime taxa barplot \\\n",
    "  --i-table hpc/output/filtered-table.qza \\\n",
    "  --i-taxonomy hpc/output/taxonomy.qza  \\\n",
    "  --m-metadata-file hpc/output/mapping.tsv \\\n",
    "  --o-visualization hpc/output/results/taxa-bar-plots.qzv"
   ]
  },
  {
   "cell_type": "code",
   "execution_count": null,
   "metadata": {},
   "outputs": [],
   "source": []
  }
 ],
 "metadata": {
  "kernelspec": {
   "display_name": "Python 3",
   "language": "python",
   "name": "python3"
  },
  "language_info": {
   "codemirror_mode": {
    "name": "ipython",
    "version": 3
   },
   "file_extension": ".py",
   "mimetype": "text/x-python",
   "name": "python",
   "nbconvert_exporter": "python",
   "pygments_lexer": "ipython3",
   "version": "3.5.5"
  }
 },
 "nbformat": 4,
 "nbformat_minor": 2
}
